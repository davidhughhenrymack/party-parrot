{
  "cells": [
    {
      "cell_type": "markdown",
      "metadata": {},
      "source": [
        "# Art-Net Test: Sine Wave to Channel 1\n",
        "\n",
        "This notebook tests the Art-Net controller by sending a sine wave (0-255) to DMX channel 1.\n"
      ]
    },
    {
      "cell_type": "code",
      "execution_count": 1,
      "metadata": {},
      "outputs": [],
      "source": [
        "import math\n",
        "import time\n",
        "from parrot.utils.dmx_utils import get_controller\n",
        "from parrot.patch_bay import venues\n"
      ]
    },
    {
      "cell_type": "code",
      "execution_count": 2,
      "metadata": {},
      "outputs": [
        {
          "name": "stdout",
          "output_type": "stream",
          "text": [
            "Could not connect to Entec DMX controller: [Errno 2] could not open port /dev/cu.usbserial-EN419206: [Errno 2] No such file or directory: '/dev/cu.usbserial-EN419206'\n",
            "Using mock DMX controller\n",
            "Art-Net enabled for mtn_lotus: 192.168.100.113 Universe 0\n",
            "Controller initialized for mtn_lotus\n"
          ]
        }
      ],
      "source": [
        "# Get controller for mtn_lotus venue\n",
        "# This will use Art-Net at 192.168.100.113 Universe 0\n",
        "venue = venues.mtn_lotus\n",
        "dmx = get_controller(venue)\n",
        "print(f\"Controller initialized for {venue.name}\")\n"
      ]
    },
    {
      "cell_type": "code",
      "execution_count": 3,
      "metadata": {},
      "outputs": [
        {
          "name": "stdout",
          "output_type": "stream",
          "text": [
            "Sending sine wave to channel 1 for 30 seconds...\n",
            "Press Ctrl+C to stop early\n",
            "[0s] Channel 1 = 127\n",
            "[1s] Channel 1 = 145\n",
            "[2s] Channel 1 = 91\n",
            "[3s] Channel 1 = 180\n",
            "[4s] Channel 1 = 59\n",
            "[5s] Channel 1 = 210\n",
            "[6s] Channel 1 = 31\n",
            "[7s] Channel 1 = 234\n",
            "[8s] Channel 1 = 12\n",
            "[9s] Channel 1 = 249\n",
            "[10s] Channel 1 = 1\n",
            "[11s] Channel 1 = 254\n",
            "[12s] Channel 1 = 1\n",
            "[13s] Channel 1 = 250\n",
            "[14s] Channel 1 = 10\n",
            "[15s] Channel 1 = 235\n",
            "[16s] Channel 1 = 29\n",
            "[17s] Channel 1 = 212\n",
            "\n",
            "Stopped by user\n",
            "\n",
            "Done! Channel 1 set to 0\n"
          ]
        }
      ],
      "source": [
        "# Send a sine wave to channel 1\n",
        "# Values will oscillate between 0 and 255\n",
        "channel = 1\n",
        "frame = 0\n",
        "duration = 30  # seconds\n",
        "fps = 30  # updates per second\n",
        "total_frames = duration * fps\n",
        "\n",
        "print(f\"Sending sine wave to channel {channel} for {duration} seconds...\")\n",
        "print(\"Press Ctrl+C to stop early\")\n",
        "\n",
        "try:\n",
        "    for i in range(total_frames):\n",
        "        # Calculate sine wave value (0-255)\n",
        "        value = (math.sin(frame) + 1) * 127.5\n",
        "        value = int(value)\n",
        "        \n",
        "        # Set channel and submit\n",
        "        dmx.set_channel(channel, value)\n",
        "        dmx.submit()\n",
        "        \n",
        "        # Print progress every second\n",
        "        if i % fps == 0:\n",
        "            seconds_elapsed = i // fps\n",
        "            print(f\"[{seconds_elapsed}s] Channel {channel} = {value}\")\n",
        "        \n",
        "        # Increment frame counter\n",
        "        frame += 0.1\n",
        "        \n",
        "        # Sleep to maintain frame rate\n",
        "        time.sleep(1.0 / fps)\n",
        "        \n",
        "except KeyboardInterrupt:\n",
        "    print(\"\\nStopped by user\")\n",
        "\n",
        "# Set channel to 0 when done\n",
        "dmx.set_channel(channel, 0)\n",
        "dmx.submit()\n",
        "print(f\"\\nDone! Channel {channel} set to 0\")\n"
      ]
    },
    {
      "cell_type": "code",
      "execution_count": null,
      "metadata": {},
      "outputs": [],
      "source": [
        "# Optional: Test with different parameters\n",
        "# Faster sine wave\n",
        "frame = 0\n",
        "print(\"Fast sine wave for 10 seconds...\")\n",
        "for i in range(300):  # 10 seconds at 30fps\n",
        "    value = int((math.sin(frame) + 1) * 127.5)\n",
        "    dmx.set_channel(1, value)\n",
        "    dmx.submit()\n",
        "    frame += 0.3  # Faster oscillation\n",
        "    time.sleep(1.0 / 30)\n",
        "\n",
        "dmx.set_channel(1, 0)\n",
        "dmx.submit()\n",
        "print(\"Done!\")\n"
      ]
    },
    {
      "cell_type": "markdown",
      "metadata": {},
      "source": [
        "\n"
      ]
    },
    {
      "cell_type": "code",
      "execution_count": null,
      "metadata": {},
      "outputs": [],
      "source": [
        "\n"
      ]
    }
  ],
  "metadata": {
    "kernelspec": {
      "display_name": ".venv",
      "language": "python",
      "name": "python3"
    },
    "language_info": {
      "codemirror_mode": {
        "name": "ipython",
        "version": 3
      },
      "file_extension": ".py",
      "mimetype": "text/x-python",
      "name": "python",
      "nbconvert_exporter": "python",
      "pygments_lexer": "ipython3",
      "version": "3.12.9"
    }
  },
  "nbformat": 4,
  "nbformat_minor": 2
}
